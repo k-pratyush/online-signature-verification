{
 "cells": [
  {
   "cell_type": "code",
   "execution_count": 1,
   "metadata": {
    "collapsed": true
   },
   "outputs": [],
   "source": [
    "import pandas as pd\n",
    "import string\n",
    "from sklearn.preprocessing import MinMaxScaler"
   ]
  },
  {
   "cell_type": "code",
   "execution_count": 2,
   "metadata": {
    "collapsed": true
   },
   "outputs": [],
   "source": [
    "df = pd.read_csv(\"data.csv\")"
   ]
  },
  {
   "cell_type": "code",
   "execution_count": 3,
   "metadata": {
    "collapsed": true
   },
   "outputs": [],
   "source": [
    "del(df['Unnamed: 0'])"
   ]
  },
  {
   "cell_type": "code",
   "execution_count": 4,
   "metadata": {
    "collapsed": true
   },
   "outputs": [],
   "source": [
    "for i in range(len(df['file_name'])):\n",
    "    df[\"file_name\"][i] = df[\"file_name\"][i].split('.fpg',1)[0]"
   ]
  },
  {
   "cell_type": "code",
   "execution_count": 5,
   "metadata": {},
   "outputs": [
    {
     "name": "stdout",
     "output_type": "stream",
     "text": [
      "0001f13\n"
     ]
    }
   ],
   "source": [
    "print(df[\"file_name\"][38])"
   ]
  },
  {
   "cell_type": "code",
   "execution_count": 6,
   "metadata": {
    "collapsed": true
   },
   "outputs": [],
   "source": [
    "df.columns = ['File Name','X','Y','Pressure','Azumith','Pen Elevation']"
   ]
  },
  {
   "cell_type": "code",
   "execution_count": 7,
   "metadata": {
    "collapsed": true
   },
   "outputs": [],
   "source": [
    "colnames = list(df.columns)\n",
    "filenames = list(df['File Name'])\n",
    "def clean(t):\n",
    "  bad = ['.', '\\n', '[',']'] \n",
    "  t = ''.join(i for i in t if not i in bad) \n",
    "  t = t.split(' ')\n",
    "  t = list(filter(None, t)) \n",
    "  t = [float(i) for i in t]\n",
    "  return(t)\n",
    "  \n",
    "df = df.set_index([colnames[0]])\n",
    "for i in range(1,6):\n",
    "  df[colnames[i]] = df[colnames[i]].map(clean)"
   ]
  },
  {
   "cell_type": "code",
   "execution_count": 8,
   "metadata": {
    "collapsed": true
   },
   "outputs": [],
   "source": [
    "data = {}\n",
    "auth = {}\n",
    "scaler = MinMaxScaler()\n",
    "for timeseries in filenames:\n",
    "  data[timeseries] = pd.DataFrame()\n",
    "  auth[timeseries] = 0 if timeseries[4]=='f' else 1 \n",
    "  for j in range(1,6):\n",
    "    data[timeseries][colnames[j]] = df[colnames[j]][timeseries]\n",
    "  offset = data[timeseries].min(axis = 0)[0:2]\n",
    "  data[timeseries]['X'] -= offset[0]\n",
    "  data[timeseries]['Y'] -= offset[1]\n",
    "  data[timeseries][colnames[1:3]] = pd.DataFrame(scaler.fit_transform(data[timeseries][colnames[1:3]]), columns=colnames[1:3])"
   ]
  },
  {
   "cell_type": "code",
   "execution_count": 13,
   "metadata": {},
   "outputs": [
    {
     "name": "stdout",
     "output_type": "stream",
     "text": [
      "            X         Y  Pressure  Azumith  Pen Elevation\n",
      "0    0.014974  0.263484      24.0    152.0           57.0\n",
      "1    0.006070  0.180371      29.0    151.0           58.0\n",
      "2    0.000000  0.189213      54.0    151.0           58.0\n",
      "3    0.000000  0.176835     103.0    150.0           58.0\n",
      "4    0.000000  0.169761     142.0    150.0           58.0\n",
      "5    0.005666  0.169761     181.0    150.0           58.0\n",
      "6    0.010117  0.169761     225.0    150.0           58.0\n",
      "7    0.014164  0.177719     264.0    150.0           58.0\n",
      "8    0.025900  0.194518     302.0    150.0           58.0\n",
      "9    0.042898  0.231653     334.0    152.0           59.0\n",
      "10   0.061109  0.281167     399.0    151.0           60.0\n",
      "11   0.079320  0.338638     412.0    151.0           60.0\n",
      "12   0.095103  0.410256     414.0    151.0           60.0\n",
      "13   0.108863  0.503095     448.0    151.0           60.0\n",
      "14   0.124241  0.610080     442.0    152.0           59.0\n",
      "15   0.137596  0.706454     447.0    150.0           58.0\n",
      "16   0.149737  0.782493     452.0    151.0           58.0\n",
      "17   0.159854  0.844385     450.0    151.0           56.0\n",
      "18   0.165115  0.865606     443.0    152.0           56.0\n",
      "19   0.167544  0.865606     448.0    153.0           55.0\n",
      "20   0.169567  0.854111     450.0    152.0           54.0\n",
      "21   0.172805  0.826702     455.0    153.0           53.0\n",
      "22   0.178875  0.767462     468.0    153.0           53.0\n",
      "23   0.185350  0.686118     464.0    152.0           53.0\n",
      "24   0.191016  0.585323     467.0    153.0           53.0\n",
      "25   0.195872  0.482759     473.0    153.0           53.0\n",
      "26   0.200324  0.394341     475.0    152.0           54.0\n",
      "27   0.208418  0.315650     472.0    152.0           54.0\n",
      "28   0.216512  0.257294     477.0    153.0           55.0\n",
      "29   0.224201  0.216622     477.0    152.0           56.0\n",
      "..        ...       ...       ...      ...            ...\n",
      "247  0.700526  0.648983     522.0    162.0           54.0\n",
      "248  0.692028  0.564103     526.0    162.0           54.0\n",
      "249  0.686362  0.486295     524.0    162.0           54.0\n",
      "250  0.684338  0.433245     526.0    161.0           55.0\n",
      "251  0.686766  0.407604     521.0    160.0           55.0\n",
      "252  0.693646  0.400531     527.0    160.0           56.0\n",
      "253  0.712262  0.404951     535.0    160.0           56.0\n",
      "254  0.738163  0.422635     548.0    157.0           57.0\n",
      "255  0.776204  0.449160     557.0    157.0           57.0\n",
      "256  0.820316  0.470380     563.0    157.0           58.0\n",
      "257  0.868070  0.486295     577.0    158.0           58.0\n",
      "258  0.909348  0.493369     578.0    158.0           58.0\n",
      "259  0.945366  0.497790     578.0    160.0           58.0\n",
      "260  0.977337  0.497790     577.0    161.0           60.0\n",
      "261  0.995953  0.497790     572.0    162.0           60.0\n",
      "262  1.000000  0.486295     566.0    162.0           60.0\n",
      "263  0.993930  0.475685     570.0    164.0           60.0\n",
      "264  0.969243  0.464191     564.0    166.0           60.0\n",
      "265  0.920680  0.451813     568.0    166.0           60.0\n",
      "266  0.856333  0.446508     568.0    166.0           60.0\n",
      "267  0.780656  0.446508     561.0    166.0           60.0\n",
      "268  0.693242  0.422635     560.0    166.0           59.0\n",
      "269  0.597734  0.396110     581.0    165.0           59.0\n",
      "270  0.476325  0.347480     620.0    164.0           58.0\n",
      "271  0.353703  0.286472     642.0    164.0           58.0\n",
      "272  0.230271  0.206012     664.0    162.0           58.0\n",
      "273  0.159450  0.138815     661.0    161.0           57.0\n",
      "274  0.146499  0.081344     603.0    161.0           57.0\n",
      "275  0.172400  0.030946     493.0    160.0           55.0\n",
      "276  0.204775  0.000000      37.0    159.0           55.0\n",
      "\n",
      "[277 rows x 5 columns]\n"
     ]
    }
   ],
   "source": [
    "print(data[\"0001f13\"])"
   ]
  },
  {
   "cell_type": "code",
   "execution_count": 17,
   "metadata": {},
   "outputs": [
    {
     "name": "stdout",
     "output_type": "stream",
     "text": [
      "1\n",
      "0\n"
     ]
    }
   ],
   "source": [
    "# Creating separate label dictionary to store labels(1 or 0 for true or false signature respectively) \n",
    "# with the format {file_name: label}\n",
    "label = {}\n",
    "for key in data:\n",
    "    if(key.find('f') != -1):\n",
    "        label[key] = 0\n",
    "    elif(key.find('v') != -1):\n",
    "        label[key] = 1\n",
    "print(label[\"0001v13\"])  #should print 1\n",
    "print(label[\"0001f13\"])  #should print 0"
   ]
  },
  {
   "cell_type": "code",
   "execution_count": null,
   "metadata": {
    "collapsed": true
   },
   "outputs": [],
   "source": []
  }
 ],
 "metadata": {
  "kernelspec": {
   "display_name": "Python 3",
   "language": "python",
   "name": "python3"
  }
 },
 "nbformat": 4,
 "nbformat_minor": 2
}
