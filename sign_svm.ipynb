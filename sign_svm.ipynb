{
 "cells": [
  {
   "cell_type": "code",
   "execution_count": 1,
   "metadata": {},
   "outputs": [],
   "source": [
    "import math\n",
    "import time\n",
    "\n",
    "\n",
    "def timenow():\n",
    "    return int(time.time() * 1000)\n",
    "\n",
    "def sqr(x):\n",
    "    return x*x\n",
    "\n",
    "def distSquared(p1, p2):\n",
    "    return sqr(p1[0] - p2[0]) + sqr(p1[1] - p2[1])\n",
    "\n",
    "class Line(object):\n",
    "    def __init__(self, p1, p2):\n",
    "        self.p1 = p1\n",
    "        self.p2 = p2\n",
    "        self.lengthSquared = distSquared(self.p1, self.p2)\n",
    "\n",
    "    def getRatio(self, point):\n",
    "        segmentLength = self.lengthSquared\n",
    "        if segmentLength == 0:\n",
    "            return distSquared(point, p1);\n",
    "        return ((point[0] - self.p1[0]) * (self.p2[0] - self.p1[0]) + \\\n",
    "        (point[1] - self.p1[1]) * (self.p2[1] - self.p1[1])) / segmentLength\n",
    "\n",
    "    def distanceToSquared(self, point):\n",
    "        t = self.getRatio(point)\n",
    "\n",
    "        if t < 0:\n",
    "            return distSquared(point, self.p1)\n",
    "        if t > 1:\n",
    "            return distSquared(point, self.p2)\n",
    "\n",
    "        return distSquared(point, [\n",
    "            self.p1[0] + t * (self.p2[0] - self.p1[0]),\n",
    "            self.p1[1] + t * (self.p2[1] - self.p1[1])\n",
    "        ])\n",
    "\n",
    "    def distanceTo(self, point):\n",
    "        return math.sqrt(self.distanceToSquared(point))\n",
    "\n",
    "\n",
    "def simplifyDouglasPeucker(points, pointsToKeep):\n",
    "    weights = []\n",
    "    length = len(points)\n",
    "\n",
    "    def douglasPeucker(start, end):\n",
    "        if (end > start + 1):\n",
    "            line = Line(points[start], points[end])\n",
    "            maxDist = -1\n",
    "            maxDistIndex = 0\n",
    "\n",
    "            for i in range(start + 1, end):\n",
    "                dist = line.distanceToSquared(points[i])\n",
    "                if dist > maxDist:\n",
    "                    maxDist = dist\n",
    "                    maxDistIndex = i\n",
    "\n",
    "            weights.insert(maxDistIndex, maxDist)\n",
    "\n",
    "            douglasPeucker(start, maxDistIndex)\n",
    "            douglasPeucker(maxDistIndex, end)\n",
    "\n",
    "    douglasPeucker(0, length - 1)\n",
    "    weights.insert(0, float(\"inf\"))\n",
    "    weights.append(float(\"inf\"))\n",
    "\n",
    "    weightsDescending = weights\n",
    "    weightsDescending = sorted(weightsDescending, reverse=True)\n",
    "\n",
    "    maxTolerance = weightsDescending[pointsToKeep - 1]\n",
    "    result = [\n",
    "        point for i, point in enumerate(points) if weights[i] >= maxTolerance\n",
    "    ]\n",
    "\n",
    "    return result"
   ]
  },
  {
   "cell_type": "code",
   "execution_count": 22,
   "metadata": {},
   "outputs": [],
   "source": [
    "import pandas as pd\n",
    "import matplotlib.pyplot as plt"
   ]
  },
  {
   "cell_type": "code",
   "execution_count": 3,
   "metadata": {},
   "outputs": [],
   "source": [
    "data = pd.read_pickle(\"final_data.pkl\")"
   ]
  },
  {
   "cell_type": "code",
   "execution_count": 4,
   "metadata": {},
   "outputs": [],
   "source": [
    "sign1 = data.loc[data[\"index\"] == 0]"
   ]
  },
  {
   "cell_type": "code",
   "execution_count": 5,
   "metadata": {},
   "outputs": [
    {
     "data": {
      "text/html": [
       "<div>\n",
       "<style scoped>\n",
       "    .dataframe tbody tr th:only-of-type {\n",
       "        vertical-align: middle;\n",
       "    }\n",
       "\n",
       "    .dataframe tbody tr th {\n",
       "        vertical-align: top;\n",
       "    }\n",
       "\n",
       "    .dataframe thead th {\n",
       "        text-align: right;\n",
       "    }\n",
       "</style>\n",
       "<table border=\"1\" class=\"dataframe\">\n",
       "  <thead>\n",
       "    <tr style=\"text-align: right;\">\n",
       "      <th></th>\n",
       "      <th>index</th>\n",
       "      <th>FileName</th>\n",
       "      <th>X</th>\n",
       "      <th>Y</th>\n",
       "      <th>Pressure</th>\n",
       "      <th>Azumith</th>\n",
       "      <th>PenElevation</th>\n",
       "      <th>user</th>\n",
       "      <th>sample</th>\n",
       "      <th>label</th>\n",
       "      <th>...</th>\n",
       "      <th>ratio</th>\n",
       "      <th>dif_pen</th>\n",
       "      <th>dif_az</th>\n",
       "      <th>pen_up</th>\n",
       "      <th>sign_time</th>\n",
       "      <th>x_speed</th>\n",
       "      <th>y_speed</th>\n",
       "      <th>x_size</th>\n",
       "      <th>dist_list</th>\n",
       "      <th>total_length</th>\n",
       "    </tr>\n",
       "  </thead>\n",
       "  <tbody>\n",
       "    <tr>\n",
       "      <th>0</th>\n",
       "      <td>0</td>\n",
       "      <td>0000f00.fpg</td>\n",
       "      <td>[38.16971713810316, 38.16971713810316, 38.6688...</td>\n",
       "      <td>[72.88776796973518, 72.88776796973518, 69.1046...</td>\n",
       "      <td>[312.0, 369.0, 458.0, 602.0, 685.0, 733.0, 757...</td>\n",
       "      <td>[118.0, 116.0, 116.0, 116.0, 114.0, 114.0, 114...</td>\n",
       "      <td>[65.0, 66.0, 66.0, 66.0, 66.0, 66.0, 66.0, 66....</td>\n",
       "      <td>0000</td>\n",
       "      <td>00</td>\n",
       "      <td>0</td>\n",
       "      <td>...</td>\n",
       "      <td>1.894704</td>\n",
       "      <td>10</td>\n",
       "      <td>28</td>\n",
       "      <td>0</td>\n",
       "      <td>1.01</td>\n",
       "      <td>29.752475</td>\n",
       "      <td>15.70297</td>\n",
       "      <td>101</td>\n",
       "      <td>[0.0, 3.815891845360075, 5.055101540503492, 11...</td>\n",
       "      <td>760.806104</td>\n",
       "    </tr>\n",
       "  </tbody>\n",
       "</table>\n",
       "<p>1 rows × 23 columns</p>\n",
       "</div>"
      ],
      "text/plain": [
       "   index     FileName                                                  X  \\\n",
       "0      0  0000f00.fpg  [38.16971713810316, 38.16971713810316, 38.6688...   \n",
       "\n",
       "                                                   Y  \\\n",
       "0  [72.88776796973518, 72.88776796973518, 69.1046...   \n",
       "\n",
       "                                            Pressure  \\\n",
       "0  [312.0, 369.0, 458.0, 602.0, 685.0, 733.0, 757...   \n",
       "\n",
       "                                             Azumith  \\\n",
       "0  [118.0, 116.0, 116.0, 116.0, 114.0, 114.0, 114...   \n",
       "\n",
       "                                        PenElevation  user sample  label  ...  \\\n",
       "0  [65.0, 66.0, 66.0, 66.0, 66.0, 66.0, 66.0, 66....  0000     00      0  ...   \n",
       "\n",
       "      ratio  dif_pen  dif_az  pen_up  sign_time    x_speed   y_speed  x_size  \\\n",
       "0  1.894704       10      28       0       1.01  29.752475  15.70297     101   \n",
       "\n",
       "                                           dist_list  total_length  \n",
       "0  [0.0, 3.815891845360075, 5.055101540503492, 11...    760.806104  \n",
       "\n",
       "[1 rows x 23 columns]"
      ]
     },
     "execution_count": 5,
     "metadata": {},
     "output_type": "execute_result"
    }
   ],
   "source": [
    "sign1"
   ]
  },
  {
   "cell_type": "code",
   "execution_count": 27,
   "metadata": {
    "scrolled": true
   },
   "outputs": [
    {
     "data": {
      "text/plain": [
       "0    [312.0, 369.0, 458.0, 602.0, 685.0, 733.0, 757...\n",
       "Name: Pressure, dtype: object"
      ]
     },
     "execution_count": 27,
     "metadata": {},
     "output_type": "execute_result"
    }
   ],
   "source": [
    "sign1.Pressure"
   ]
  },
  {
   "cell_type": "code",
   "execution_count": 18,
   "metadata": {},
   "outputs": [],
   "source": [
    "arr = []\n",
    "for idx, i in enumerate(sign1['X'][0]):\n",
    "    val = (i, sign1['Y'][0][idx])\n",
    "    arr.append(val)"
   ]
  },
  {
   "cell_type": "code",
   "execution_count": 26,
   "metadata": {},
   "outputs": [],
   "source": [
    "sampled_sign = simplifyDouglasPeucker(arr, 100)"
   ]
  },
  {
   "cell_type": "code",
   "execution_count": 37,
   "metadata": {},
   "outputs": [
    {
     "name": "stdout",
     "output_type": "stream",
     "text": [
      "[(38.16971713810316, 72.88776796973518), (38.16971713810316, 72.88776796973518), (38.336106489184694, 64.06052963430012), (37.703826955074874, 52.71122320302648), (36.17304492512479, 39.78562421185372), (34.109816971713805, 25.788146279949558), (32.04658901830283, 14.754098360655737), (30.316139767054906, 7.25094577553594), (29.184692179700498, 2.1437578814627996), (28.38602329450915, 0.0), (27.986688851913478, 0.6305170239596469), (27.820299500831947, 3.1525851197982346), (27.820299500831947, 9.836065573770492), (28.75207986688852, 20.05044136191677), (30.016638935108155, 32.66078184110971), (31.547420965058237, 46.910466582597735), (33.17803660565724, 59.83606557377049), (34.84193011647255, 71.81588902900378), (36.40599001663893, 78.31021437578815), (38.10316139767055, 84.48928121059268), (39.866888519134775, 90.54224464060529), (41.89683860232945, 94.26229508196722), (44.3261231281198, 97.03656998738967), (47.42096505823628, 99.18032786885246), (50.7820299500832, 100.0), (52.445923460898506, 98.23455233291298), (53.04492512479201, 94.76670870113493), (53.04492512479201, 88.77679697351829), (51.14808652246256, 80.20176544766709), (48.75207986688852, 69.86128625472888), (45.9567387687188, 59.58385876418664), (43.993344425956735, 52.143757881462804), (43.460898502495844, 46.53215636822195), (43.89351081530782, 43.505674653215635), (45.15806988352745, 41.67717528373266), (46.489184692179705, 40.605296343001264), (48.48585690515807, 40.605296343001264), (50.848585690515804, 43.253467843631775), (53.94342762063228, 47.28877679697352), (56.63893510815308, 51.261034047919296), (59.06821963394343, 55.67465321563682), (61.663893510815306, 62.10592686002522), (64.3594009983361, 69.73518284993695), (66.18968386023295, 75.78814627994956), (67.42096505823628, 78.87767969735184), (67.42096505823628, 80.07566204287517), (67.15474209650583, 83.98486759142497), (66.4891846921797, 86.88524590163934), (64.9251247920133, 89.09205548549811), (63.394342762063225, 91.10970996216898), (60.732113144758735, 93.0643127364439), (57.33777038269551, 94.95586380832283), (52.74542429284526, 94.95586380832283), (46.455906821963396, 94.64060529634301), (39.001663893510816, 90.79445145018916), (31.41430948419301, 84.67843631778058), (23.860232945091514, 77.80580075662043), (16.339434276206322, 71.437578814628), (12.712146422628951, 66.01513240857503), (12.046589018302829, 61.097099621689786), (13.377703826955075, 56.30517023959647), (17.57071547420965, 51.9546027742749), (24.3261231281198, 49.93694829760403), (32.81198003327787, 49.36948297604035), (41.56405990016639, 50.69356872635561), (51.24792013311148, 53.78310214375788), (61.53078202995008, 58.13366960907944), (68.55241264559068, 62.79949558638083), (73.34442595673877, 67.46532156368222), (76.63893510815308, 71.9419924337957), (76.47254575707156, 75.22068095838588), (73.41098169717138, 77.74274905422448), (68.38602329450914, 78.81462799495587), (59.10149750415974, 76.41866330390921), (46.688851913477535, 71.75283732660782), (32.21297836938436, 62.6733921815889), (18.63560732113145, 50.88272383354351), (8.48585690515807, 37.26355611601513), (0.632279534109817, 25.535939470365697), (0.0, 18.15889029003783), (5.357737104825292, 13.745271122320302), (14.675540765391016, 13.05170239596469), (30.149750415973376, 16.960907944514503), (47.98668885191348, 24.02269861286255), (67.42096505823628, 32.91298865069357), (84.65890183028286, 39.91172761664565), (94.70881863560732, 45.64943253467844), (100.0, 47.793190416141236), (99.23460898502496, 47.477931904161416), (93.97670549084859, 45.523329129886505), (85.69051580698836, 40.290037831021436), (73.44425956738768, 33.60655737704918), (64.05990016638935, 26.04035308953342), (56.60565723793677, 21.50063051702396), (56.60565723793677, 20.05044136191677), (60.5324459234609, 20.744010088272383), (67.22129783693843, 23.203026481715007), (77.17138103161398, 27.93190416141236), (87.0216306156406, 34.1109709962169), (96.80532445923461, 37.704918032786885)]\n"
     ]
    }
   ],
   "source": [
    "print(sampled_sign)"
   ]
  },
  {
   "cell_type": "code",
   "execution_count": 41,
   "metadata": {},
   "outputs": [],
   "source": [
    "sampled_x = []\n",
    "for idx, i in enumerate(sampled_sign):\n",
    "    sampled_x.append(sampled_sign[idx][0])"
   ]
  },
  {
   "cell_type": "code",
   "execution_count": 43,
   "metadata": {},
   "outputs": [],
   "source": [
    "sampled_y = []\n",
    "for idx, i in enumerate(sampled_sign):\n",
    "    sampled_y.append(sampled_sign[idx][1])"
   ]
  },
  {
   "cell_type": "code",
   "execution_count": 44,
   "metadata": {},
   "outputs": [
    {
     "data": {
      "text/plain": [
       "[72.88776796973518,\n",
       " 72.88776796973518,\n",
       " 64.06052963430012,\n",
       " 52.71122320302648,\n",
       " 39.78562421185372,\n",
       " 25.788146279949558,\n",
       " 14.754098360655737,\n",
       " 7.25094577553594,\n",
       " 2.1437578814627996,\n",
       " 0.0,\n",
       " 0.6305170239596469,\n",
       " 3.1525851197982346,\n",
       " 9.836065573770492,\n",
       " 20.05044136191677,\n",
       " 32.66078184110971,\n",
       " 46.910466582597735,\n",
       " 59.83606557377049,\n",
       " 71.81588902900378,\n",
       " 78.31021437578815,\n",
       " 84.48928121059268,\n",
       " 90.54224464060529,\n",
       " 94.26229508196722,\n",
       " 97.03656998738967,\n",
       " 99.18032786885246,\n",
       " 100.0,\n",
       " 98.23455233291298,\n",
       " 94.76670870113493,\n",
       " 88.77679697351829,\n",
       " 80.20176544766709,\n",
       " 69.86128625472888,\n",
       " 59.58385876418664,\n",
       " 52.143757881462804,\n",
       " 46.53215636822195,\n",
       " 43.505674653215635,\n",
       " 41.67717528373266,\n",
       " 40.605296343001264,\n",
       " 40.605296343001264,\n",
       " 43.253467843631775,\n",
       " 47.28877679697352,\n",
       " 51.261034047919296,\n",
       " 55.67465321563682,\n",
       " 62.10592686002522,\n",
       " 69.73518284993695,\n",
       " 75.78814627994956,\n",
       " 78.87767969735184,\n",
       " 80.07566204287517,\n",
       " 83.98486759142497,\n",
       " 86.88524590163934,\n",
       " 89.09205548549811,\n",
       " 91.10970996216898,\n",
       " 93.0643127364439,\n",
       " 94.95586380832283,\n",
       " 94.95586380832283,\n",
       " 94.64060529634301,\n",
       " 90.79445145018916,\n",
       " 84.67843631778058,\n",
       " 77.80580075662043,\n",
       " 71.437578814628,\n",
       " 66.01513240857503,\n",
       " 61.097099621689786,\n",
       " 56.30517023959647,\n",
       " 51.9546027742749,\n",
       " 49.93694829760403,\n",
       " 49.36948297604035,\n",
       " 50.69356872635561,\n",
       " 53.78310214375788,\n",
       " 58.13366960907944,\n",
       " 62.79949558638083,\n",
       " 67.46532156368222,\n",
       " 71.9419924337957,\n",
       " 75.22068095838588,\n",
       " 77.74274905422448,\n",
       " 78.81462799495587,\n",
       " 76.41866330390921,\n",
       " 71.75283732660782,\n",
       " 62.6733921815889,\n",
       " 50.88272383354351,\n",
       " 37.26355611601513,\n",
       " 25.535939470365697,\n",
       " 18.15889029003783,\n",
       " 13.745271122320302,\n",
       " 13.05170239596469,\n",
       " 16.960907944514503,\n",
       " 24.02269861286255,\n",
       " 32.91298865069357,\n",
       " 39.91172761664565,\n",
       " 45.64943253467844,\n",
       " 47.793190416141236,\n",
       " 47.477931904161416,\n",
       " 45.523329129886505,\n",
       " 40.290037831021436,\n",
       " 33.60655737704918,\n",
       " 26.04035308953342,\n",
       " 21.50063051702396,\n",
       " 20.05044136191677,\n",
       " 20.744010088272383,\n",
       " 23.203026481715007,\n",
       " 27.93190416141236,\n",
       " 34.1109709962169,\n",
       " 37.704918032786885]"
      ]
     },
     "execution_count": 44,
     "metadata": {},
     "output_type": "execute_result"
    }
   ],
   "source": [
    "sampled_y"
   ]
  },
  {
   "cell_type": "code",
   "execution_count": 28,
   "metadata": {},
   "outputs": [
    {
     "data": {
      "text/plain": [
       "[<matplotlib.lines.Line2D at 0x12ad4b290>]"
      ]
     },
     "execution_count": 28,
     "metadata": {},
     "output_type": "execute_result"
    },
    {
     "data": {
      "image/png": "[encoded data removed]",
      "text/plain": [
       "<Figure size 432x288 with 1 Axes>"
      ]
     },
     "metadata": {
      "needs_background": "light"
     },
     "output_type": "display_data"
    }
   ],
   "source": [
    "plt.plot(sign1.Pressure[0])"
   ]
  },
  {
   "cell_type": "code",
   "execution_count": 47,
   "metadata": {},
   "outputs": [
    {
     "data": {
      "text/plain": [
       "[<matplotlib.lines.Line2D at 0x11b1fa3d0>]"
      ]
     },
     "execution_count": 47,
     "metadata": {},
     "output_type": "execute_result"
    },
    {
     "data": {
      "image/png": "[encoded data removed]",
      "text/plain": [
       "<Figure size 432x288 with 1 Axes>"
      ]
     },
     "metadata": {
      "needs_background": "light"
     },
     "output_type": "display_data"
    }
   ],
   "source": [
    "plt.plot(sign1['X'][0], sign1['Y'][0], 'o')"
   ]
  },
  {
   "cell_type": "code",
   "execution_count": 49,
   "metadata": {},
   "outputs": [
    {
     "data": {
      "text/plain": [
       "101"
      ]
     },
     "execution_count": 49,
     "metadata": {},
     "output_type": "execute_result"
    }
   ],
   "source": [
    "len(sign1['X'][0])"
   ]
  },
  {
   "cell_type": "code",
   "execution_count": 48,
   "metadata": {},
   "outputs": [
    {
     "data": {
      "text/plain": [
       "[<matplotlib.lines.Line2D at 0x11b716650>]"
      ]
     },
     "execution_count": 48,
     "metadata": {},
     "output_type": "execute_result"
    },
    {
     "data": {
      "image/png": "[encoded data removed]",
      "text/plain": [
       "<Figure size 432x288 with 1 Axes>"
      ]
     },
     "metadata": {
      "needs_background": "light"
     },
     "output_type": "display_data"
    }
   ],
   "source": [
    "plt.plot(sampled_x, sampled_y, 'o')"
   ]
  },
  {
   "cell_type": "code",
   "execution_count": 50,
   "metadata": {},
   "outputs": [
    {
     "data": {
      "text/plain": [
       "100"
      ]
     },
     "execution_count": 50,
     "metadata": {},
     "output_type": "execute_result"
    }
   ],
   "source": [
    "len(sampled_x)"
   ]
  },
  {
   "cell_type": "code",
   "execution_count": 55,
   "metadata": {},
   "outputs": [],
   "source": [
    "sign2_x = data.X[2243]"
   ]
  },
  {
   "cell_type": "code",
   "execution_count": 56,
   "metadata": {},
   "outputs": [],
   "source": [
    "sign2_y = data.Y[2243]"
   ]
  },
  {
   "cell_type": "code",
   "execution_count": 57,
   "metadata": {},
   "outputs": [],
   "source": [
    "arr = []\n",
    "for idx, i in enumerate(sign2_x):\n",
    "    val = (i, sign2_y[idx])\n",
    "    arr.append(val)"
   ]
  },
  {
   "cell_type": "code",
   "execution_count": 59,
   "metadata": {},
   "outputs": [
    {
     "data": {
      "text/plain": [
       "1000"
      ]
     },
     "execution_count": 59,
     "metadata": {},
     "output_type": "execute_result"
    }
   ],
   "source": [
    "len(arr)"
   ]
  },
  {
   "cell_type": "code",
   "execution_count": 60,
   "metadata": {},
   "outputs": [],
   "source": [
    "sampled_sign2 = simplifyDouglasPeucker(arr, 100)"
   ]
  },
  {
   "cell_type": "code",
   "execution_count": 62,
   "metadata": {},
   "outputs": [
    {
     "data": {
      "text/plain": [
       "100"
      ]
     },
     "execution_count": 62,
     "metadata": {},
     "output_type": "execute_result"
    }
   ],
   "source": [
    "len(sampled_sign2)"
   ]
  },
  {
   "cell_type": "code",
   "execution_count": 67,
   "metadata": {},
   "outputs": [],
   "source": [
    "sampled_sign2_x = []\n",
    "for idx, i in enumerate(sampled_sign2):\n",
    "    sampled_sign2_x.append(sampled_sign2[idx][0])"
   ]
  },
  {
   "cell_type": "code",
   "execution_count": 69,
   "metadata": {},
   "outputs": [],
   "source": [
    "sampled_sign2_y = []\n",
    "for idx, i in enumerate(sampled_sign2):\n",
    "    sampled_sign2_y.append(sampled_sign2[idx][1])"
   ]
  },
  {
   "cell_type": "code",
   "execution_count": 71,
   "metadata": {},
   "outputs": [
    {
     "data": {
      "text/plain": [
       "[<matplotlib.lines.Line2D at 0x11e1fc450>]"
      ]
     },
     "execution_count": 71,
     "metadata": {},
     "output_type": "execute_result"
    },
    {
     "data": {
      "image/png": "[encoded data removed]",
      "text/plain": [
       "<Figure size 432x288 with 1 Axes>"
      ]
     },
     "metadata": {
      "needs_background": "light"
     },
     "output_type": "display_data"
    }
   ],
   "source": [
    "plt.plot(sign2_x, sign2_y)"
   ]
  },
  {
   "cell_type": "code",
   "execution_count": 72,
   "metadata": {},
   "outputs": [
    {
     "data": {
      "text/plain": [
       "[<matplotlib.lines.Line2D at 0x12953c950>]"
      ]
     },
     "execution_count": 72,
     "metadata": {},
     "output_type": "execute_result"
    },
    {
     "data": {
      "image/png": "[encoded data removed]",
      "text/plain": [
       "<Figure size 432x288 with 1 Axes>"
      ]
     },
     "metadata": {
      "needs_background": "light"
     },
     "output_type": "display_data"
    }
   ],
   "source": [
    "plt.plot(sampled_sign2_x, sampled_sign2_y)"
   ]
  },
  {
   "cell_type": "code",
   "execution_count": 73,
   "metadata": {},
   "outputs": [],
   "source": [
    "arr1 = []\n",
    "arr1.append([2468])"
   ]
  },
  {
   "cell_type": "code",
   "execution_count": 75,
   "metadata": {},
   "outputs": [],
   "source": [
    "arr1.append([10,20,30,40])"
   ]
  },
  {
   "cell_type": "code",
   "execution_count": 76,
   "metadata": {},
   "outputs": [
    {
     "data": {
      "text/plain": [
       "[[2468], [10, 20, 30, 40]]"
      ]
     },
     "execution_count": 76,
     "metadata": {},
     "output_type": "execute_result"
    }
   ],
   "source": [
    "arr1"
   ]
  },
  {
   "cell_type": "code",
   "execution_count": null,
   "metadata": {},
   "outputs": [],
   "source": []
  }
 ],
 "metadata": {
  "kernelspec": {
   "display_name": "Python 3",
   "language": "python",
   "name": "python3"
  },
  "language_info": {
   "codemirror_mode": {
    "name": "ipython",
    "version": 3
   },
   "file_extension": ".py",
   "mimetype": "text/x-python",
   "name": "python",
   "nbconvert_exporter": "python",
   "pygments_lexer": "ipython3",
   "version": "3.7.5"
  }
 },
 "nbformat": 4,
 "nbformat_minor": 4
}
